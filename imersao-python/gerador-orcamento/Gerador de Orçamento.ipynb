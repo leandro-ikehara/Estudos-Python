{
 "cells": [
  {
   "attachments": {},
   "cell_type": "markdown",
   "id": "d35d1da5",
   "metadata": {},
   "source": [
    "# Estudo de Python"
   ]
  },
  {
   "cell_type": "code",
   "execution_count": 1,
   "id": "97060709",
   "metadata": {},
   "outputs": [
    {
     "name": "stdout",
     "output_type": "stream",
     "text": [
      "Semana Imersão Python\n",
      "29/05 à 02/06\n"
     ]
    }
   ],
   "source": [
    "print(\"Semana Imersão Python\")\n",
    "print(\"29/05 à 02/06\")"
   ]
  },
  {
   "attachments": {},
   "cell_type": "markdown",
   "id": "a682b6bf",
   "metadata": {},
   "source": [
    "## Entrada de dados"
   ]
  },
  {
   "cell_type": "code",
   "execution_count": 1,
   "id": "30d52d69",
   "metadata": {},
   "outputs": [
    {
     "data": {
      "text/plain": [
       "'75'"
      ]
     },
     "execution_count": 1,
     "metadata": {},
     "output_type": "execute_result"
    }
   ],
   "source": [
    "input(\"Digite a descrição do projeto: \")\n",
    "input(\"Digite o total de horas estimadas: \")\n",
    "input(\"Digite o valor da hora trabalhada: \")\n",
    "input(\"Digite o prazo estimado: \")"
   ]
  },
  {
   "attachments": {},
   "cell_type": "markdown",
   "id": "c412e798",
   "metadata": {},
   "source": [
    "## Guardando em variáveis"
   ]
  },
  {
   "cell_type": "code",
   "execution_count": 2,
   "id": "eec3de08",
   "metadata": {},
   "outputs": [],
   "source": [
    "projeto = input(\"Digite a descrição do projeto: \")\n",
    "horas_estimadas = input(\"Digite o total de horas estimadas: \")\n",
    "valor_hora = input(\"Digite o valor da hora trabalhada: \")\n",
    "prazo = input(\"Digite o prazo estimado: \")"
   ]
  },
  {
   "attachments": {},
   "cell_type": "markdown",
   "id": "fdd8c2a4",
   "metadata": {},
   "source": [
    "## Cálculos"
   ]
  },
  {
   "attachments": {},
   "cell_type": "markdown",
   "id": "5807bc4e",
   "metadata": {},
   "source": [
    "### Tipo de Dados"
   ]
  },
  {
   "cell_type": "code",
   "execution_count": 3,
   "id": "283c5b6c",
   "metadata": {},
   "outputs": [],
   "source": [
    "total = int(horas_estimadas) * int(valor_hora)"
   ]
  },
  {
   "cell_type": "code",
   "execution_count": 4,
   "id": "e998f34d",
   "metadata": {},
   "outputs": [
    {
     "name": "stdout",
     "output_type": "stream",
     "text": [
      "6000\n"
     ]
    }
   ],
   "source": [
    "print(total)"
   ]
  },
  {
   "attachments": {},
   "cell_type": "markdown",
   "id": "9adc4bb4",
   "metadata": {},
   "source": [
    "# Gerador de PDF"
   ]
  },
  {
   "cell_type": "code",
   "execution_count": 16,
   "id": "d4173d0b",
   "metadata": {},
   "outputs": [
    {
     "name": "stdout",
     "output_type": "stream",
     "text": [
      "Requirement already satisfied: fpdf in d:\\anaconda3\\lib\\site-packages (1.7.2)\n"
     ]
    }
   ],
   "source": [
    "!pip install fpdf"
   ]
  },
  {
   "cell_type": "code",
   "execution_count": 18,
   "id": "42358d8b",
   "metadata": {},
   "outputs": [
    {
     "ename": "ModuleNotFoundError",
     "evalue": "No module named 'fpdf'",
     "output_type": "error",
     "traceback": [
      "\u001b[1;31m---------------------------------------------------------------------------\u001b[0m",
      "\u001b[1;31mModuleNotFoundError\u001b[0m                       Traceback (most recent call last)",
      "Cell \u001b[1;32mIn[18], line 1\u001b[0m\n\u001b[1;32m----> 1\u001b[0m \u001b[39mfrom\u001b[39;00m \u001b[39mfpdf\u001b[39;00m \u001b[39mimport\u001b[39;00m FPDF\n",
      "\u001b[1;31mModuleNotFoundError\u001b[0m: No module named 'fpdf'"
     ]
    }
   ],
   "source": [
    "from fpdf import FPDF"
   ]
  },
  {
   "cell_type": "code",
   "execution_count": 21,
   "id": "5eabd195",
   "metadata": {},
   "outputs": [
    {
     "ename": "ModuleNotFoundError",
     "evalue": "No module named 'fpdf'",
     "output_type": "error",
     "traceback": [
      "\u001b[1;31m---------------------------------------------------------------------------\u001b[0m",
      "\u001b[1;31mModuleNotFoundError\u001b[0m                       Traceback (most recent call last)",
      "Cell \u001b[1;32mIn[21], line 1\u001b[0m\n\u001b[1;32m----> 1\u001b[0m \u001b[39mfrom\u001b[39;00m \u001b[39mfpdf\u001b[39;00m \u001b[39mimport\u001b[39;00m FPDF\n\u001b[0;32m      3\u001b[0m pdf \u001b[39m=\u001b[39m FPDF()\n\u001b[0;32m      5\u001b[0m pdf\u001b[39m.\u001b[39madd_page()\n",
      "\u001b[1;31mModuleNotFoundError\u001b[0m: No module named 'fpdf'"
     ]
    }
   ],
   "source": [
    "from fpdf import FPDF\n",
    "\n",
    "pdf = FPDF()\n",
    "\n",
    "pdf.add_page()\n",
    "pdf.set_font(\"Arial\")\n",
    "pdf.image(\"template.png\", x=0, y=0)\n",
    "\n",
    "# pdf.text(10, 10, \"Leandro\")\n",
    "pdf.text(115, 145, projeto)\n",
    "pdf.text(115, 160, horas_estimadas)\n",
    "pdf.text(115, 175, valor_hora)\n",
    "pdf.text(115, 190, prazo)\n",
    "pdf.text(115, 205, str(total))\n",
    "\n",
    "pdf.output(\"Orçamento.pdf\")\n",
    "print(\"Orçamento gerado com sucesso!\")"
   ]
  }
 ],
 "metadata": {
  "kernelspec": {
   "display_name": "Python 3 (ipykernel)",
   "language": "python",
   "name": "python3"
  },
  "language_info": {
   "codemirror_mode": {
    "name": "ipython",
    "version": 3
   },
   "file_extension": ".py",
   "mimetype": "text/x-python",
   "name": "python",
   "nbconvert_exporter": "python",
   "pygments_lexer": "ipython3",
   "version": "3.11.3"
  }
 },
 "nbformat": 4,
 "nbformat_minor": 5
}
